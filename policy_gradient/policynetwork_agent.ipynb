{
 "cells": [
  {
   "cell_type": "code",
   "execution_count": 1,
   "metadata": {},
   "outputs": [],
   "source": [
    "import pandas as pd\n",
    "import numpy as np\n",
    "import matplotlib.pyplot as plt\n",
    "\n",
    "import torch\n",
    "import torch.nn as nn\n",
    "import torch.optim as optim\n",
    "import torch.functional as F"
   ]
  },
  {
   "cell_type": "code",
   "execution_count": 2,
   "metadata": {},
   "outputs": [],
   "source": [
    "class PolicyNetwork(nn.Module):\n",
    "    def __init__(self, lr, input_dims, fc1_dims, fc2_dims, n_actions):\n",
    "        super(PolicyNetwork, self).__init__()\n",
    "        self.input_dims = input_dims\n",
    "        self.lr = lr\n",
    "        self.fc1_dims = fc1_dims\n",
    "        self.fc2_dims = fc2_dims\n",
    "        self.n_actions = n_actions\n",
    "        \n",
    "        self.fc1 = nn.Linear(*self.input_dims, self.fc1_dims)\n",
    "        self.fc2 = nn.Linear(self.fc1_dims, self.fc2_dims)\n",
    "        self.fc3 = nn.Linear(self.fc2_dims, self.n_actions)\n",
    "        \n",
    "        self.optimizer = optim.RMSprop(self.parameters(), lr=lr)\n",
    "        # self.device = torch.device('cuda:0' if torch.cuda.is_available())\n",
    "        \n",
    "    def forward(self, obs):\n",
    "        state = torch.Tensor(obs)\n",
    "        x = F.relu(self.fc1(state))\n",
    "        x = F.relu(self.fc2(x))\n",
    "        x = self.fc3(x)\n",
    "        return x"
   ]
  },
  {
   "cell_type": "code",
   "execution_count": null,
   "metadata": {},
   "outputs": [],
   "source": [
    "class Agent(object):\n",
    "    def __init__(self, lr, input_dims, gamma=0.99, n_actions=4, \n",
    "                 l1_size=256, l2_size=256)\n",
    "        self.gamma = gamma\n",
    "        self.rewards_history = list()\n",
    "        self.actions_history = list()\n",
    "        self.policy = PolicyNetwork(lr, input_dims, l1_size, l2_size, n_actions)\n",
    "        \n",
    "    def choose_action(self, obs):\n",
    "        probs = F.softmax(self.policy.forward(obs))\n",
    "        action_probs = torch.distributions.Categorical(probs)\n",
    "        action = action_probs.sample() # tensor\n",
    "        log_probs = action_probs.log_prob(action)\n",
    "        self.actions_history.append(log_probs)\n",
    "        return action.item() # integer\n",
    "    \n",
    "    def store_reward(self, reward):\n",
    "        self.rewards_history.append(reward)\n",
    "        \n",
    "    def learn(self):\n",
    "        self.policy.optimizer.zero_grad()\n",
    "        G = np.zeros_like(self.rewards_history, dtype=np.float64)\n",
    "        for t in range(len(self.rewards_history)): # t timesteps\n",
    "            G_sum = 0\n",
    "            discount = 1\n",
    "            for k in range(t, len(self.rewards_history)):\n",
    "                G_sum += self.rewards_history[k] * discount\n",
    "                discount *= self.gamma\n",
    "            G[t] = G_sum\n",
    "        G = (G - np.mean(G)) / np.std(G)\n",
    "        G = torch.Tensor(G, dtype=torch.float)\n",
    "        \n",
    "        loss = 0\n",
    "        for g, logprob in zip(G, self.rewards_history):\n",
    "            loss += -g * logprob\n",
    "        \n",
    "        loss.backward()\n",
    "        self.policy.optimizer.step()\n",
    "        \n",
    "        self.rewards_history = list()\n",
    "        self.actions_history = list()"
   ]
  }
 ],
 "metadata": {
  "kernelspec": {
   "display_name": "Python 3",
   "language": "python",
   "name": "python3"
  },
  "language_info": {
   "codemirror_mode": {
    "name": "ipython",
    "version": 3
   },
   "file_extension": ".py",
   "mimetype": "text/x-python",
   "name": "python",
   "nbconvert_exporter": "python",
   "pygments_lexer": "ipython3",
   "version": "3.8.5"
  }
 },
 "nbformat": 4,
 "nbformat_minor": 4
}
